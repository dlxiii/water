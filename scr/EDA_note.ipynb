{
 "cells": [
  {
   "cell_type": "code",
   "execution_count": null,
   "id": "7e437b1a-4cff-47b5-b657-d9847759a287",
   "metadata": {},
   "outputs": [],
   "source": [
    "%matplotlib inline\n",
    "\n",
    "import pandas as pd\n",
    "import numpy as np\n",
    "import seaborn as sns\n",
    "from scipy import stats\n",
    "import matplotlib.pyplot as plt\n",
    "\n",
    "#sns.set(font=\"Times New Roman\")\n",
    "\n",
    "pd.set_option(\"display.max_columns\", 144)"
   ]
  },
  {
   "cell_type": "code",
   "execution_count": null,
   "id": "2bf888ad-5383-44eb-b582-40c4c009afc2",
   "metadata": {},
   "outputs": [],
   "source": [
    "filename = ['urayasu','chibaharo','kawasaki','1goto']\n",
    "station  = ['Urayasu','Chibaharo','Kawasaki','1goto']\n",
    "filepath = '/Users/yulong/GitHub/water/data/TBEIC/urayasu_20140101-20151231.csv' \n",
    "savename = '../data/TBEIC/urayasu'\n",
    "#filepath = '/Users/yulong/GitHub/water/data/TBEIC/chibaharo_20140101-20151231.csv' \n",
    "#savename = '../data/TBEIC/chibaharo'\n",
    "#filepath = '/Users/yulong/GitHub/water/data/TBEIC/kawasaki_20140101-20151231.csv' \n",
    "#savename = '../data/TBEIC/kawasaki'\n",
    "#filepath = '/Users/yulong/GitHub/water/data/TBEIC/1goto_20140101-20151231.csv' \n",
    "#savename = '../data/TBEIC/1goto'\n",
    "col_name = ['年月日時分','気温(℃)','平均風速(m/s)','風向(度)','風向16方位(-)',\n",
    "            '観測深度(上層)(m)','水温(上層)(℃)','塩分(上層)(-)',\n",
    "            'DO(上層)(mg/L)','クロロフィルa(上層)(μg/L)',\n",
    "            '観測深度(中層)(m)','水温(中層)(℃)','塩分(中層)(-)',\n",
    "            'DO(中層)(mg/L)','クロロフィルa(中層)(μg/L)',\n",
    "            '観測深度(下層)(m)','水温(下層)(℃)','塩分(下層)(-)',\n",
    "            'DO(下層)(mg/L)','クロロフィルa(下層)(μg/L)',\n",
    "            '流速(上層)(cm/s)','流向(上層)(度)','流向16方位(上層)(-)',\n",
    "            '流速(中層)(cm/s)','流向(中層)(度)','流向16方位(中層)(-)',\n",
    "            '流速(下層)(cm/s)','流向(下層)(度)','流向16方位(下層)(-)']\n",
    "col_name = ['DT','TEMa','WND_a','WND_deg','WND_16',\n",
    "            'DEP_s','TEMw_s','SALw_s',\n",
    "            'DO_s','Chla_s',\n",
    "            'DEP_m','TEMw_m','SALw_m',\n",
    "            'DO_m','Chla_m',\n",
    "            'DEP_b','TEMw_b','SALw_b',\n",
    "            'DO_b','Chla_b',\n",
    "            'CRT_s','CRT_s_deg','CRT_s_16',\n",
    "            'CRT_m','CRT_m_deg','CRT_m_16',\n",
    "            'CRT_b','CRT_b_deg','CRT_b_16']\n",
    "df = pd.read_csv(filepath,names=col_name,header=None,index_col=False,\n",
    "                 na_values=['99999.99','99999.9','-99999','-1000000'],encoding=\"SHIFT-JIS\",\n",
    "                 skiprows=1)"
   ]
  },
  {
   "cell_type": "code",
   "execution_count": null,
   "id": "0c3eca82-688e-4595-8462-aa889ec36c08",
   "metadata": {},
   "outputs": [],
   "source": [
    "df.drop(columns=['WND_16','CRT_s_16','CRT_m_16','CRT_b_16'], inplace=True)\n",
    "df.DT =  pd.to_datetime(df.DT, format='%Y/%m/%d %H:%M')\n",
    "df.dropna(subset = ['DO_s'], inplace=True)\n",
    "df.dropna(subset = ['DO_m'], inplace=True)\n",
    "df.dropna(subset = ['DO_b'], inplace=True)\n",
    "df.drop(df[df['TEMw_s'] > 40].index, inplace = True)\n",
    "df.drop(df[df['TEMw_m'] > 40].index, inplace = True)\n",
    "df.drop(df[df['TEMw_b'] > 40].index, inplace = True)\n",
    "df.drop(df[df['SALw_s'] > 45].index, inplace = True)\n",
    "df.drop(df[df['SALw_m'] > 45].index, inplace = True)\n",
    "df.drop(df[df['SALw_b'] > 45].index, inplace = True)\n",
    "df.drop(df[df['SALw_s'] <= 5].index, inplace = True)\n",
    "df.drop(df[df['SALw_m'] <= 5].index, inplace = True)\n",
    "df.drop(df[df['SALw_b'] <= 5].index, inplace = True)\n",
    "df.drop(df[df['DEP_s'] < 0].index, inplace = True)\n",
    "df.drop(df[df['DEP_m'] < 0].index, inplace = True)\n",
    "df.drop(df[df['DEP_b'] < 0].index, inplace = True)\n",
    "df.isnull().sum()\n",
    "df.head()"
   ]
  },
  {
   "cell_type": "code",
   "execution_count": null,
   "id": "3ea37e99-e794-4a6d-bfb9-45c001d3f96a",
   "metadata": {},
   "outputs": [],
   "source": [
    "df.describe()"
   ]
  },
  {
   "cell_type": "code",
   "execution_count": null,
   "id": "2af836e2-6b55-4173-a4ee-e9b4703351e5",
   "metadata": {},
   "outputs": [],
   "source": [
    "plt.figure(figsize=(16,4))\n",
    "plt.plot()\n",
    "plt.scatter(df.DT,df.DEP_s)\n",
    "plt.scatter(df.DT,df.DEP_m)\n",
    "plt.scatter(df.DT,df.DEP_b)\n",
    "plt.savefig(savename+'_dep.png',dpi=300)\n",
    "plt.show()"
   ]
  },
  {
   "cell_type": "code",
   "execution_count": null,
   "id": "d3836164-48c4-4550-a6d1-3a9b78c0cc67",
   "metadata": {},
   "outputs": [],
   "source": [
    "plt.figure(figsize=(16,4))\n",
    "plt.plot()\n",
    "plt.scatter(df.DT,df.DO_s)\n",
    "plt.scatter(df.DT,df.DO_m)\n",
    "plt.scatter(df.DT,df.DO_b)\n",
    "plt.savefig(savename+'_do.png',dpi=300)\n",
    "plt.show()"
   ]
  },
  {
   "cell_type": "code",
   "execution_count": null,
   "id": "57688063-e04b-46a2-9cfc-5a330b5a8eae",
   "metadata": {},
   "outputs": [],
   "source": [
    "plt.figure(figsize=(16,4))\n",
    "plt.plot()\n",
    "plt.scatter(df.DT,df.TEMw_s)\n",
    "plt.scatter(df.DT,df.TEMw_m)\n",
    "plt.scatter(df.DT,df.TEMw_b)\n",
    "plt.savefig(savename+'_tem.png',dpi=300)\n",
    "plt.show()"
   ]
  },
  {
   "cell_type": "code",
   "execution_count": null,
   "id": "c03c2a8a-fd5b-431c-bba2-1d93c03ec965",
   "metadata": {},
   "outputs": [],
   "source": [
    "plt.figure(figsize=(16,4))\n",
    "plt.plot()\n",
    "plt.scatter(df.DT,df.SALw_s)\n",
    "plt.scatter(df.DT,df.SALw_m)\n",
    "plt.scatter(df.DT,df.SALw_b)\n",
    "plt.savefig(savename+'_sal.png',dpi=300)\n",
    "plt.show()"
   ]
  },
  {
   "cell_type": "code",
   "execution_count": null,
   "id": "299d951a-9643-403a-971a-c368b15d9250",
   "metadata": {},
   "outputs": [],
   "source": [
    "df.to_csv(savename+'.csv',index=False)"
   ]
  },
  {
   "cell_type": "code",
   "execution_count": null,
   "id": "f9dad0de-a9b9-4f42-a67b-f7e3398a9287",
   "metadata": {},
   "outputs": [],
   "source": []
  }
 ],
 "metadata": {
  "kernelspec": {
   "display_name": "Python 3 (ipykernel)",
   "language": "python",
   "name": "python3"
  },
  "language_info": {
   "codemirror_mode": {
    "name": "ipython",
    "version": 3
   },
   "file_extension": ".py",
   "mimetype": "text/x-python",
   "name": "python",
   "nbconvert_exporter": "python",
   "pygments_lexer": "ipython3",
   "version": "3.9.7"
  }
 },
 "nbformat": 4,
 "nbformat_minor": 5
}
